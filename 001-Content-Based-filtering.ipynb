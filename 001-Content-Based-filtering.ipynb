{
 "cells": [
  {
   "cell_type": "markdown",
   "metadata": {},
   "source": [
    "<h1>Content-Based-Filtering</h1>"
   ]
  },
  {
   "cell_type": "markdown",
   "metadata": {},
   "source": [
    "<h1>پیش پردازش</h1>\n",
    "<h1>Preprocessing</h1>"
   ]
  },
  {
   "cell_type": "code",
   "execution_count": 1,
   "metadata": {},
   "outputs": [],
   "source": [
    "import pandas as pd\n",
    "import numpy as np\n",
    "import matplotlib.pyplot as plt\n",
    "import seaborn as sns\n",
    "from ast import literal_eval\n",
    "from sklearn.feature_extraction.text import TfidfVectorizer\n",
    "from sklearn.feature_extraction.text import CountVectorizer\n",
    "from sklearn.metrics.pairwise import cosine_similarity"
   ]
  },
  {
   "cell_type": "markdown",
   "metadata": {},
   "source": [
    "<h2>بارگذاری داده ها</h2>\n",
    "<h2>Loading datasets</h2>"
   ]
  },
  {
   "cell_type": "code",
   "execution_count": null,
   "metadata": {},
   "outputs": [],
   "source": [
    "data = pd.read_csv(\"datasets/movies_metadata.csv\", low_memory=False)\n",
    "data.head()"
   ]
  },
  {
   "cell_type": "code",
   "execution_count": null,
   "metadata": {},
   "outputs": [],
   "source": [
    "print(data.shape)"
   ]
  },
  {
   "cell_type": "markdown",
   "metadata": {},
   "source": [
    "<h3>columns we use</h3>\n",
    "<h3>ستون هایی که استفاده می کنیم </h3>\n",
    "<ui>\n",
    "    <li>genres : ژانر</li>\n",
    "    <li>original_language : زبان_اصلی</li>\n",
    "    <li>belongs_to_collection : متعلق_به_مجموعه</li>\n",
    "    <li>title : عنوان</li>\n",
    "    <li>vote_average : رای_میانگین</li>\n",
    "    <li>vote_count : رای_شمارش</li>\n",
    "    <li>popularity : محبوبیت</li>\n",
    "    <li>overview : نمای کلی</li>\n",
    "</ui>"
   ]
  },
  {
   "cell_type": "code",
   "execution_count": 4,
   "metadata": {},
   "outputs": [],
   "source": [
    "data = data[['id','genres', 'vote_average', 'vote_count','popularity','title',  'belongs_to_collection', 'overview']]"
   ]
  },
  {
   "cell_type": "code",
   "execution_count": null,
   "metadata": {},
   "outputs": [],
   "source": [
    "tmp_m = data['vote_count'].quantile(0.89)\n",
    "tmp_m"
   ]
  },
  {
   "cell_type": "code",
   "execution_count": null,
   "metadata": {},
   "outputs": [],
   "source": [
    "tmp_data = data.copy().loc[data['vote_count'] >= tmp_m]\n",
    "tmp_data.shape"
   ]
  },
  {
   "cell_type": "code",
   "execution_count": 7,
   "metadata": {},
   "outputs": [],
   "source": [
    "del tmp_data\n",
    "\n",
    "m = data['vote_count'].quantile(0.9)\n",
    "data = data.loc[data['vote_count'] >= m]"
   ]
  },
  {
   "cell_type": "code",
   "execution_count": null,
   "metadata": {},
   "outputs": [],
   "source": [
    "data.head()"
   ]
  },
  {
   "cell_type": "code",
   "execution_count": null,
   "metadata": {},
   "outputs": [],
   "source": [
    "print(data.shape)"
   ]
  },
  {
   "cell_type": "code",
   "execution_count": null,
   "metadata": {},
   "outputs": [],
   "source": [
    "data = pd.DataFrame.dropna(data, axis=0)\n",
    "print(data.shape)"
   ]
  },
  {
   "cell_type": "code",
   "execution_count": null,
   "metadata": {},
   "outputs": [],
   "source": [
    "C = data['vote_average'].mean()\n",
    "print(C)\n",
    "print(m)"
   ]
  },
  {
   "cell_type": "code",
   "execution_count": 12,
   "metadata": {},
   "outputs": [],
   "source": [
    "def weighted_rating(x, m=m, C=C):\n",
    "    v = x['vote_count']\n",
    "    R = x['vote_average']\n",
    "    \n",
    "    return ( v / (v+m) * R ) + (m / (m + v) * C)"
   ]
  },
  {
   "cell_type": "code",
   "execution_count": null,
   "metadata": {},
   "outputs": [],
   "source": [
    "data['score'] = data.apply(weighted_rating, axis = 1)\n",
    "data.head(5)"
   ]
  },
  {
   "cell_type": "code",
   "execution_count": null,
   "metadata": {},
   "outputs": [],
   "source": [
    "data.shape"
   ]
  },
  {
   "cell_type": "code",
   "execution_count": null,
   "metadata": {},
   "outputs": [],
   "source": [
    "data[['genres', 'belongs_to_collection']].head(2)"
   ]
  },
  {
   "cell_type": "markdown",
   "metadata": {},
   "source": [
    "<h4>  حل مشکل نوع داده ای ستون های ژانر و متعلق_به_مجموعه</h4>\n",
    "<br>\n",
    "<p>برای حل این مشکل از پکیج زیر استفاده میکنیم</p>\n",
    "<p><a href=\"https://docs.python.org/3/library/ast.html\">ast</a>.literal_eval</p>"
   ]
  },
  {
   "cell_type": "code",
   "execution_count": 16,
   "metadata": {},
   "outputs": [],
   "source": [
    "data['genres'] = data['genres'].apply(literal_eval)\n",
    "data['belongs_to_collection'] = data['belongs_to_collection'].apply(literal_eval)"
   ]
  },
  {
   "cell_type": "code",
   "execution_count": null,
   "metadata": {},
   "outputs": [],
   "source": [
    "data[['genres', 'belongs_to_collection']].head(2)"
   ]
  },
  {
   "cell_type": "code",
   "execution_count": 18,
   "metadata": {},
   "outputs": [],
   "source": [
    "data['genres'] = data['genres'].apply(lambda x : [d[\"name\"] for d in x]).apply(lambda x : \"\".join(x))\n",
    "data['belongs_to_collection'] = data['belongs_to_collection'].apply(lambda x : [d[:1]for d in x]).apply(lambda x : \"\".join(x))"
   ]
  },
  {
   "cell_type": "code",
   "execution_count": null,
   "metadata": {},
   "outputs": [],
   "source": [
    "data.head(2)"
   ]
  },
  {
   "cell_type": "markdown",
   "metadata": {},
   "source": [
    "<h1>Content-Based-Filtering</h1>\n",
    "<h1>فیلترینگ مبتنی بر محتوا</h1>\n",
    "<h3>می خواهیم بر اساس محتوا توصیه هایی ارائه کنیم. با استفاده از فیلترینگ مبتنی بر محتوا به توصیه محتوای مشابه به کاربران اشاره کنیم\n",
    " </h3>\n",
    " <h3>ژانر میتواند یک گزینه مناسب برای توصیه باشد</h3>"
   ]
  },
  {
   "cell_type": "code",
   "execution_count": null,
   "metadata": {},
   "outputs": [],
   "source": [
    "movie_data = pd.read_csv('datasets/movies_metadata.csv', low_memory=False)\n",
    "movie_data =  movie_data.loc[movie_data['original_language'] == 'en', :]\n",
    "movie_data = movie_data[['id', 'title', 'original_language', 'genres']]\n",
    "\n",
    "print(movie_data.shape)\n",
    "movie_data.head()"
   ]
  },
  {
   "cell_type": "code",
   "execution_count": null,
   "metadata": {},
   "outputs": [],
   "source": [
    "movie_keyword = pd.read_csv('datasets/keywords.csv', low_memory=False)\n",
    "print(movie_keyword.shape)\n",
    "movie_keyword.head()"
   ]
  },
  {
   "cell_type": "code",
   "execution_count": null,
   "metadata": {},
   "outputs": [],
   "source": [
    "movie_data.id = movie_data.id.astype(int)\n",
    "movie_keyword.id = movie_keyword.id.astype(int)\n",
    "movie_data = pd.merge(movie_data, movie_keyword, on='id')\n",
    "print(movie_data.shape)\n",
    "movie_data.head()"
   ]
  },
  {
   "cell_type": "markdown",
   "metadata": {},
   "source": [
    "<h1>پیش پردازش</h1>\n",
    "<h1>Preprocessing</h1>"
   ]
  },
  {
   "cell_type": "code",
   "execution_count": 23,
   "metadata": {},
   "outputs": [],
   "source": [
    "movie_data['genres'] = movie_data['genres'].apply(literal_eval)\n",
    "movie_data['genres'] = movie_data['genres'].apply(lambda x : [d['name'] for d in x]).apply(lambda x : \" \".join(x))"
   ]
  },
  {
   "cell_type": "code",
   "execution_count": 24,
   "metadata": {},
   "outputs": [],
   "source": [
    "movie_data['keywords'] = movie_data['keywords'].apply(literal_eval)\n",
    "movie_data['keywords'] = movie_data['keywords'].apply(lambda x : [d['name'] for d in x]).apply(lambda x : \" \".join(x))"
   ]
  },
  {
   "cell_type": "code",
   "execution_count": null,
   "metadata": {},
   "outputs": [],
   "source": [
    "movie_data.head()"
   ]
  },
  {
   "cell_type": "markdown",
   "metadata": {},
   "source": [
    "<h2>داده های پیش پردازش شده با استفاده از روش TF-IDF به بردار تبدیل می شوند.\n",
    "من ژانر و کلمه کلیدی را با هم ترکیب کردم و آن را به یک وکتور tfidf تبدیل کردم.</h2>"
   ]
  },
  {
   "cell_type": "code",
   "execution_count": 26,
   "metadata": {},
   "outputs": [],
   "source": [
    "tfidf_vector = TfidfVectorizer()\n",
    "#tfidf_vector = TfidfVectorizer(ngram_range=(1,2))\n",
    "tfidf_matrix = tfidf_vector.fit_transform(movie_data['genres'] + \" \" + movie_data['keywords']).toarray()\n",
    "#tfidf_matrix = tfidf_vector.fit_transform(movie_data['genres']).toarray()\n",
    "tfidf_matrix_feature = tfidf_vector.get_feature_names_out()"
   ]
  },
  {
   "cell_type": "code",
   "execution_count": null,
   "metadata": {},
   "outputs": [],
   "source": [
    "tfidf_matrix.shape"
   ]
  },
  {
   "cell_type": "code",
   "execution_count": null,
   "metadata": {},
   "outputs": [],
   "source": [
    "tfidf_matrix = pd.DataFrame(tfidf_matrix, columns=tfidf_matrix_feature, index = movie_data.title)\n",
    "print(tfidf_matrix.shape)\n",
    "tfidf_matrix.head()"
   ]
  },
  {
   "cell_type": "code",
   "execution_count": null,
   "metadata": {},
   "outputs": [],
   "source": [
    "%%time\n",
    "cosine_sim = cosine_similarity(tfidf_matrix)"
   ]
  },
  {
   "cell_type": "code",
   "execution_count": null,
   "metadata": {},
   "outputs": [],
   "source": [
    "cosine_sim.shape"
   ]
  },
  {
   "cell_type": "code",
   "execution_count": null,
   "metadata": {},
   "outputs": [],
   "source": [
    "cosine_sim_df = pd.DataFrame(cosine_sim, index = movie_data.title, columns = movie_data.title)\n",
    "print(cosine_sim_df.shape)\n",
    "cosine_sim_df.head()"
   ]
  },
  {
   "cell_type": "code",
   "execution_count": 32,
   "metadata": {},
   "outputs": [],
   "source": [
    "def genre_recommendations(target_title, matrix, items, k=10):\n",
    "    recom_idx = matrix.loc[:, target_title].values.reshape(1, -1).argsort()[:, ::-1].flatten()[1:k+1]\n",
    "    recom_title = items.iloc[recom_idx, :].title.values\n",
    "    recom_genre = items.iloc[recom_idx, :].genres.values\n",
    "    target_title_list = np.full(len(range(k)), target_title)\n",
    "    target_genre_list = np.full(len(range(k)), items[items.title == target_title].genres.values)\n",
    "    d = {\n",
    "        'target_title':target_title_list,\n",
    "        'target_genre':target_genre_list,\n",
    "        'recom_title' : recom_title,\n",
    "        'recom_genre' : recom_genre\n",
    "    }\n",
    "    return pd.DataFrame(d)"
   ]
  },
  {
   "cell_type": "code",
   "execution_count": null,
   "metadata": {},
   "outputs": [],
   "source": [
    "genre_recommendations('The Dark Knight Rises', cosine_sim_df, movie_data)"
   ]
  },
  {
   "cell_type": "markdown",
   "metadata": {},
   "source": [
    "<h1>Level Of code : Basic</h1>"
   ]
  }
 ],
 "metadata": {
  "kernelspec": {
   "display_name": "base",
   "language": "python",
   "name": "python3"
  },
  "language_info": {
   "codemirror_mode": {
    "name": "ipython",
    "version": 3
   },
   "file_extension": ".py",
   "mimetype": "text/x-python",
   "name": "python",
   "nbconvert_exporter": "python",
   "pygments_lexer": "ipython3",
   "version": "3.12.4"
  }
 },
 "nbformat": 4,
 "nbformat_minor": 2
}
